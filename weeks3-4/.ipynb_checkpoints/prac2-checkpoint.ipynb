{
 "cells": [
  {
   "cell_type": "markdown",
   "metadata": {},
   "source": [
    "# Introduction to Artificial Intelligence for Non Computing"
   ]
  },
  {
   "cell_type": "markdown",
   "metadata": {},
   "source": [
    "## Practical 2 (weeks 3 - 4)"
   ]
  },
  {
   "cell_type": "markdown",
   "metadata": {},
   "source": [
    "## Search Techniques"
   ]
  },
  {
   "cell_type": "markdown",
   "metadata": {},
   "source": [
    "The following links provide additional information about depth first search and breath first search"
   ]
  },
  {
   "cell_type": "markdown",
   "metadata": {},
   "source": [
    "- Depth first search:   link：https://pan.baidu.com/s/1bkLHKKbSBNpfFuKwDyURqw  password：oy76\n",
    "- Breath first search:  link：https://pan.baidu.com/s/176g5q0W3rGbSAM5tZMraeg   password：7mdh"
   ]
  },
  {
   "cell_type": "markdown",
   "metadata": {},
   "source": [
    "#### Theory Questions "
   ]
  },
  {
   "cell_type": "markdown",
   "metadata": {},
   "source": [
    "1\\. What is an algorithm? A sequence of steps such as a recipe or a movie script.\n",
    "\n",
    "As a movie viewer, please write an algorithm for a process to \"see a movie\". Include details of the following for example (add additional information yourself):\n",
    "\t- The start conditions \n",
    "\t-- I want to watch a movie\n",
    "\t- Roles (people/actors involved) \n",
    "    --watcher, ticket seller etc \n",
    "    -Equipment required (\"props\")\n",
    "    --seats, ticket etc\n",
    "    - The scenes \n",
    "    -- scene 1 - buy ticket \n",
    "    -- ??? what happens next\n",
    "    -- scene 3, scene 3 ...\n",
    "    - Results/outcomes\n",
    "    -- ?\n"
   ]
  },
  {
   "cell_type": "code",
   "execution_count": 77,
   "metadata": {},
   "outputs": [
    {
     "name": "stdout",
     "output_type": "stream",
     "text": [
      "Wow, I got pay off!\n",
      "I want to watch a movie\n",
      "I am a watcher now\n",
      "Go to find a ticket seller\n",
      "\n",
      "Scene 1: buy ticket\n",
      "I: Are there any tickets for the avenger League?\n",
      "Seller: Yeah, please choose a seat\n",
      "Got seat:  (5, 1)\n",
      "\n",
      "Scene 2: Enjoy the movie\n",
      "\n",
      "Scene 3: Halfway to the toilet missed the highlight.\n",
      "\n",
      "Result:\n",
      "This movie is wonderful. I like it\n"
     ]
    }
   ],
   "source": [
    "from random import randint\n",
    "if randint(1, 11) > 5:\n",
    "    print(\"Wow, I got pay off!\")\n",
    "    print(\"I want to watch a movie\")\n",
    "    print(\"I am a watcher now\")\n",
    "    print(\"Go to find a ticket seller\")\n",
    "    print(\"\\nScene 1: buy ticket\")\n",
    "    print(\"I: Are there any tickets for the avenger League?\")\n",
    "    if randint(1, 11) > 5:\n",
    "        print(\"Seller: I'm sorry, it's sold out.\")\n",
    "    else:\n",
    "        print(\"Seller: Yeah, please choose a seat\")\n",
    "        seat = (randint(1, 7), randint(1, 16))\n",
    "        print(\"Got seat: \", seat)\n",
    "        print(\"\\nScene 2: Enjoy the movie\")\n",
    "        if randint(1, 11) > 5:\n",
    "            print(\"\\nScene 3: Halfway to the toilet missed the highlight.\")\n",
    "        \n",
    "        print(\"\\nResult:\")\n",
    "        if randint(1, 11) > 5:\n",
    "            print(\"This movie is wonderful. I like it\")\n",
    "        else:\n",
    "            print(\"Oh, this movie is awful!\")\n",
    "else:\n",
    "    print(\"Keep working\")"
   ]
  },
  {
   "cell_type": "markdown",
   "metadata": {},
   "source": [
    "2\\. A farmer with his wolf, duck and bag of corn come to the east side of a river they wish to cross. There is a boat at the rivers edge, but of course only the farmer can row. The boat can only hold two things (including the rower) at any one time. If the wolf is ever left alone with the duck, the wolf will eat it. Similarly if the duck is ever left alone with the corn, the duck will eat it. How can the farmer get across the river so that all four arrive safely on the other side? "
   ]
  },
  {
   "cell_type": "markdown",
   "metadata": {},
   "source": [
    "Answer:\n",
    "The first time, take the duck, the second time, take the corn, the duck back, the third time the wolf, the fourth time the duck.\n",
    "***"
   ]
  },
  {
   "cell_type": "markdown",
   "metadata": {},
   "source": [
    " "
   ]
  },
  {
   "cell_type": "markdown",
   "metadata": {},
   "source": [
    "3\\.Explain why we determine our problem goals before we write the problem formulation (including the model and deciding what algorithm or techniques to use - for example search, or other method).\n",
    "\n",
    "See Chapter3.1 (Russel & Norvig)"
   ]
  },
  {
   "cell_type": "markdown",
   "metadata": {},
   "source": [
    "Answer:\n",
    "In goal formulation, we decide which aspects of the world we are interested in and which are negligible or abstract. Then, in the formulation of problems, we decide how to use them and ignore the unimportant things. If we write the problem formulation first, we will not know what should be included and what should be omitted. We can only iterate to a useful and effective solution.\n",
    "\n",
    "****"
   ]
  },
  {
   "cell_type": "markdown",
   "metadata": {},
   "source": [
    "4\\. This question requires you to perform BFS and DFS on paper.\n",
    "\n",
    "<img src=\"img/p1.png\" width=\"180\" height=\"180\" >\n",
    "\n",
    "1. Simulate (on pencil-and-paper) breadth-first search starting from node A when the goal node is K.\n",
    "2. Simulate (on pencil-and-paper) depth first search starting from node A when the goal node is I.\n"
   ]
  },
  {
   "cell_type": "markdown",
   "metadata": {},
   "source": [
    "1. ABCDEFHGIK \n",
    "2. ABCEFDHIK\n",
    "\n",
    "***"
   ]
  },
  {
   "cell_type": "markdown",
   "metadata": {},
   "source": [
    "5\\.Consider a state space where the start state is number 1 and each state  k has two successors: numbers 2k and 2k + 1.\n",
    "- a. Draw the portion of the state space for states 1 to 15.\n",
    "- b. Suppose the goal state is 11. List the order in which nodes will be visited for breadthfirst\n",
    "search, depth-limited search with limit 3, and iterative deepening search.\n",
    "- c. How well would bidirectional search work on this problem? What is the branching\n",
    "factor in each direction of the bidirectional search?\n",
    "- d. Does the answer to (c) suggest a reformulation of the problem that would allow you to\n",
    "solve the problem of getting from state 1 to a given goal state with almost no search?\n",
    "- e. Call the action going from k to 2k Left, and the action going to 2k + 1 Right. Can you\n",
    "find an algorithm that outputs the solution to this problem without any search at all?\n",
    "\n",
    "See textbook Chapter3.15"
   ]
  },
  {
   "cell_type": "markdown",
   "metadata": {},
   "source": [
    "a.\n",
    "<img src=\"img/5a.png\" width=\"500\" height=\"400\" >\n",
    "\n",
    "b.\n",
    "BFS:\n",
    "1,2,3,4,5,6,7,8,9,10,11\n",
    "\n",
    "DLS:\n",
    "1,2,4,8,9,5,10,11\n",
    "\n",
    "IDS:\n",
    "1;\n",
    "1,2,3;\n",
    "1,2,4,5,3,6,7;\n",
    "1,2,4,8,9,5,10,11\n",
    "\n",
    "c.\n",
    "It's useful, because in the reverse direction there is only one successor  ⌊(n/2)⌋ of n. The branching factor is 2 in the forward direction and 1 in the reverse direction.\n",
    "\n",
    "d.\n",
    "Yes, start at the goal, then apply the single reverse successor action until reach 1.\n",
    "\n",
    "e.\n",
    "Convert the goal number to binary number. From the highest bit to the lowest bit, skip the initial 1, if the bit is 0, turn left to node 2n, if it is 1, turn right to node 2n + 1."
   ]
  },
  {
   "cell_type": "markdown",
   "metadata": {},
   "source": [
    "### Programming Excercises"
   ]
  },
  {
   "cell_type": "markdown",
   "metadata": {},
   "source": [
    "1\\.Write a program to solve a classic ancient Chinese puzzle:  \n",
    " We count 35 heads and 94 legs among the chickens and rabbits in a farm. How many rabbits and how many chickens do we have? "
   ]
  },
  {
   "cell_type": "code",
   "execution_count": 2,
   "metadata": {},
   "outputs": [
    {
     "name": "stdout",
     "output_type": "stream",
     "text": [
      "rabbits: 12，chickens: 23\n"
     ]
    }
   ],
   "source": [
    "##Hint:Use for loop to iterate all possible\n",
    "## write your answer here!\n",
    "for x in range(1,36):\n",
    "    y = 35 - x\n",
    "    if 4*x + 2*y == 94:\n",
    "        print('rabbits: %s，chickens: %s'%(x, y))"
   ]
  },
  {
   "cell_type": "markdown",
   "metadata": {},
   "source": [
    "2\\. _Social networking_ Please look at the graph below of social relationships. You have a mango farm, you need to find a mango buyer and sell him your mango that you have grown (just a small farm). To this end, our principle is to use our social network of friends separated by one degree, and then second degree friends (friends of friends), third degree friends (friends of friends of friends).\n",
    "\n",
    "Use the depth first algorithm to search your network until you find a mango seller. \n",
    "\n",
    "We make an assumption that if the person's name ends with m, then it means the person must be the mango seller!\n",
    "\n",
    "\n",
    "<img src=\"img/p3.png\" width=\"500\" height=\"400\" >"
   ]
  },
  {
   "cell_type": "code",
   "execution_count": 52,
   "metadata": {},
   "outputs": [
    {
     "name": "stdout",
     "output_type": "stream",
     "text": [
      "bob isn't a buyer!\n",
      "anuj isn't a buyer!\n",
      "peggy isn't a buyer!\n",
      "alice isn't a buyer!\n",
      "peggy isn't a buyer!\n",
      "claire isn't a buyer!\n",
      "Find buyer thom, who is claire's friend\n",
      "jonny isn't a buyer!\n"
     ]
    }
   ],
   "source": [
    "## write your answer here!\n",
    "class Person:\n",
    "    def __init__(self, name):\n",
    "        self.name = name\n",
    "        self.friends = []\n",
    "        \n",
    "    def add_friends(self, p):\n",
    "        self.friends.append(p)\n",
    "    \n",
    "    def get_friends(self, ):\n",
    "        return self.friends[:]\n",
    "    \n",
    "me = Person(\"li nan\")\n",
    "claire = Person(\"claire\")\n",
    "alice = Person(\"alice\")\n",
    "bob = Person(\"bob\")\n",
    "thom = Person(\"thom\")\n",
    "jonny = Person(\"jonny\")\n",
    "peggy = Person(\"peggy\")\n",
    "anuj = Person(\"anuj\")\n",
    "\n",
    "bob.add_friends(anuj)\n",
    "bob.add_friends(peggy)\n",
    "alice.add_friends(peggy)\n",
    "claire.add_friends(thom)\n",
    "claire.add_friends(jonny)\n",
    "\n",
    "me.add_friends(bob)\n",
    "me.add_friends(alice)\n",
    "me.add_friends(claire)\n",
    "\n",
    "def travel(person):\n",
    "    for friend in person.get_friends():\n",
    "        if friend.name.endswith('m'):\n",
    "            print(\"Find buyer %s, who is %s's friend\" % (friend.name, person.name))\n",
    "        else:\n",
    "            print(\"%s isn't a buyer!\" % friend.name)\n",
    "        travel(friend)\n",
    "\n",
    "travel(me)"
   ]
  },
  {
   "cell_type": "markdown",
   "metadata": {},
   "source": [
    "3\\. Depth First traverse：Use depth first traversal to traverse all the DLL files on the C disk and output the file names.\n",
    "\n",
    "Update your code to search for a particular filename.\n",
    "\n",
    "What protocol did you use to select the next node to expand on the fringe?"
   ]
  },
  {
   "cell_type": "code",
   "execution_count": 3,
   "metadata": {},
   "outputs": [
    {
     "name": "stdout",
     "output_type": "stream",
     "text": [
      "C:\\Program Files\\2345Soft\\HaoZip\\tool\\HaoZipMgr.dll\n",
      "C:\\Program Files\\2345Soft\\HaoZip\\tool\\2345InstUI.dll\n",
      "C:\\Program Files\\2345Soft\\HaoZip\\tool\\2345InstDLL.dll\n",
      "C:\\Program Files\\2345Soft\\HaoZip\\tool\\2345DLAgent.dll\n",
      "C:\\Program Files\\2345Soft\\HaoZip\\Protect\\Service\\6.1.0.327\\HaozipSvc.dll\n",
      "C:\\Program Files\\2345Soft\\HaoZip\\Protect\\Service\\6.1.0.327\\coral_extract.dll\n",
      "C:\\Program Files\\2345Soft\\HaoZip\\Protect\\HaozipSvc.dll\n",
      "C:\\Program Files\\2345Soft\\HaoZip\\Protect\\coral_extract.dll\n",
      "C:\\Program Files\\2345Soft\\HaoZip\\msvcr120.dll\n",
      "C:\\Program Files\\2345Soft\\HaoZip\\msvcp120.dll\n",
      "C:\\Program Files\\2345Soft\\HaoZip\\lang\\HaoZipLang_chs.dll\n",
      "C:\\Program Files\\2345Soft\\HaoZip\\Haozip_2345Upgrade.dll\n",
      "C:\\Program Files\\2345Soft\\HaoZip\\HaoZipFormats.dll\n",
      "C:\\Program Files\\2345Soft\\HaoZip\\HaoZipExt32.dll\n",
      "C:\\Program Files\\2345Soft\\HaoZip\\HaoZipExt.dll\n",
      "C:\\Program Files\\2345Soft\\HaoZip\\HaoZipEditor.dll\n",
      "C:\\Program Files\\2345Soft\\HaoZip\\HaoZipCom32.dll\n",
      "C:\\Program Files\\2345Soft\\HaoZip\\HaoZipCom.dll\n",
      "C:\\Program Files\\2345Soft\\HaoZip\\HaozipCD.dll\n",
      "C:\\Program Files\\2345Soft\\HaoZip\\HaoZip.dll\n",
      "C:\\Program Files\\2345Soft\\HaoZip\\2345DirectUI.dll\n"
     ]
    }
   ],
   "source": [
    "## write your answer here!\n",
    "import os\n",
    "\n",
    "def find_DLL(file=\"\"):\n",
    "    if file.endswith(\".dll\"):\n",
    "        print(file)\n",
    "\n",
    "def DFS_Dir(path, fileCallback = None):\n",
    "    stack = []\n",
    "    ret = []\n",
    "    stack.append(path);\n",
    "    while len(stack) > 0:\n",
    "        tmp = stack.pop(len(stack) - 1)\n",
    "        if(os.path.isdir(tmp)):\n",
    "            ret.append(tmp)\n",
    "            for item in os.listdir(tmp):\n",
    "                stack.append(os.path.join(tmp, item))\n",
    "        elif(os.path.isfile(tmp)):\n",
    "            ret.append(tmp)\n",
    "            if fileCallback:\n",
    "                fileCallback(tmp)\n",
    "                \n",
    "DFS_Dir(r\"C:\\Program Files\\2345Soft\", find_DLL)"
   ]
  },
  {
   "cell_type": "markdown",
   "metadata": {},
   "source": [
    "4\\.\n",
    "Breadth First traverse：Use breadth traversal to traverse all the DLL files on the C disk and output the filename.\n",
    "\n",
    "Update your code to search for a particular filename."
   ]
  },
  {
   "cell_type": "code",
   "execution_count": 2,
   "metadata": {},
   "outputs": [
    {
     "name": "stdout",
     "output_type": "stream",
     "text": [
      "C:\\Program Files\\2345Soft\\HaoZip\\2345DirectUI.dll\n",
      "C:\\Program Files\\2345Soft\\HaoZip\\HaoZip.dll\n",
      "C:\\Program Files\\2345Soft\\HaoZip\\HaozipCD.dll\n",
      "C:\\Program Files\\2345Soft\\HaoZip\\HaoZipCom.dll\n",
      "C:\\Program Files\\2345Soft\\HaoZip\\HaoZipCom32.dll\n",
      "C:\\Program Files\\2345Soft\\HaoZip\\HaoZipEditor.dll\n",
      "C:\\Program Files\\2345Soft\\HaoZip\\HaoZipExt.dll\n",
      "C:\\Program Files\\2345Soft\\HaoZip\\HaoZipExt32.dll\n",
      "C:\\Program Files\\2345Soft\\HaoZip\\HaoZipFormats.dll\n",
      "C:\\Program Files\\2345Soft\\HaoZip\\Haozip_2345Upgrade.dll\n",
      "C:\\Program Files\\2345Soft\\HaoZip\\msvcp120.dll\n",
      "C:\\Program Files\\2345Soft\\HaoZip\\msvcr120.dll\n",
      "C:\\Program Files\\2345Soft\\HaoZip\\lang\\HaoZipLang_chs.dll\n",
      "C:\\Program Files\\2345Soft\\HaoZip\\Protect\\coral_extract.dll\n",
      "C:\\Program Files\\2345Soft\\HaoZip\\Protect\\HaozipSvc.dll\n",
      "C:\\Program Files\\2345Soft\\HaoZip\\tool\\2345DLAgent.dll\n",
      "C:\\Program Files\\2345Soft\\HaoZip\\tool\\2345InstDLL.dll\n",
      "C:\\Program Files\\2345Soft\\HaoZip\\tool\\2345InstUI.dll\n",
      "C:\\Program Files\\2345Soft\\HaoZip\\tool\\HaoZipMgr.dll\n",
      "C:\\Program Files\\2345Soft\\HaoZip\\Protect\\Service\\6.1.0.327\\coral_extract.dll\n",
      "C:\\Program Files\\2345Soft\\HaoZip\\Protect\\Service\\6.1.0.327\\HaozipSvc.dll\n"
     ]
    }
   ],
   "source": [
    "## write your answer here!\n",
    "import os\n",
    "\n",
    "def find_DLL(file=\"\"):\n",
    "    if file.endswith(\".dll\"):\n",
    "        print(file)\n",
    "        \n",
    "def BFS_Dir(path, fileCallback = None):\n",
    "    queue = []\n",
    "    ret = []\n",
    "    queue.append(path);\n",
    "    while len(queue) > 0:\n",
    "        tmp = queue.pop(0)\n",
    "        if(os.path.isdir(tmp)):\n",
    "            ret.append(tmp)\n",
    "            for item in os.listdir(tmp):\n",
    "                queue.append(os.path.join(tmp, item))\n",
    "        elif(os.path.isfile(tmp)):\n",
    "            ret.append(tmp)\n",
    "            if fileCallback:\n",
    "                fileCallback(tmp)\n",
    "\n",
    "BFS_Dir(r\"C:\\Program Files\\2345Soft\", find_DLL)"
   ]
  },
  {
   "cell_type": "markdown",
   "metadata": {},
   "source": [
    "5\\. Uniform cost search"
   ]
  },
  {
   "cell_type": "markdown",
   "metadata": {},
   "source": [
    "Consider a state space where the start state is 2 and each state k has three successors: numbers 2k, 2k+1, 2k+2. The cost from state k to each respective child is k, ground(k/2), k+2.\n",
    "\n",
    "can you implement a uniform-cost-search algorithm with python. The goal state is number 85."
   ]
  },
  {
   "cell_type": "code",
   "execution_count": 4,
   "metadata": {},
   "outputs": [
    {
     "name": "stdout",
     "output_type": "stream",
     "text": [
      "Find!\n",
      "85: 53\n"
     ]
    }
   ],
   "source": [
    "## write your answer here!\n",
    "import math\n",
    "import queue\n",
    "class State:\n",
    "    def __init__(self, state, cost):\n",
    "        self.state = state\n",
    "        self.cost = cost\n",
    "    \n",
    "    def __lt__(self, other):\n",
    "        return self.cost < other.cost\n",
    "\n",
    "goal = 85\n",
    "state_space = queue.PriorityQueue()\n",
    "state_space.put(State(2, 0))\n",
    "goal_state = None\n",
    "while state_space.qsize() > 0:\n",
    "    top_state = state_space.get()\n",
    "    if top_state.state == goal:\n",
    "        goal_state = top_state\n",
    "        break\n",
    "    if top_state.state * 2 <= goal:\n",
    "        state_space.put(State(top_state.state * 2, top_state.cost + top_state.state))\n",
    "    if top_state.state * 2 + 1 <= goal:\n",
    "        state_space.put(State(top_state.state * 2 + 1, top_state.cost + math.floor(top_state.state / 2)))\n",
    "    if top_state.state * 2 + 2 <= goal:\n",
    "        state_space.put(State(top_state.state * 2 + 2, top_state.cost + top_state.state + 2))\n",
    "\n",
    "if goal_state is None:\n",
    "    print(\"Can't find\")\n",
    "else:\n",
    "    print(\"Find!\\n%d: %d\" % (goal_state.state, goal_state.cost))"
   ]
  },
  {
   "cell_type": "markdown",
   "metadata": {},
   "source": [
    "6\\.a* question"
   ]
  },
  {
   "cell_type": "markdown",
   "metadata": {},
   "source": [
    "A cute cat stays in the A position, he is hungry. But the food is placed in the B position. Can you help him to find the food? \n",
    "Hint:  The problem isn't easy. It's essential for you to understand the A* algorithm before you solve this problem. Then, you can use some thought of Node in java, when you are in code.\n",
    "\n",
    "<img src=\"img/p4.png\" width=\"500\" height=\"400\" >\n"
   ]
  },
  {
   "cell_type": "code",
   "execution_count": 78,
   "metadata": {},
   "outputs": [
    {
     "name": "stdout",
     "output_type": "stream",
     "text": [
      "Original:\n",
      "o o o o o o o \n",
      "o o o x o o o \n",
      "o s o x o e o \n",
      "o o o x o o o \n",
      "o o o o o o o \n",
      "Find Path:\n",
      "o o * * * * o \n",
      "o o * x o * o \n",
      "o * * x o * o \n",
      "o o o x o o o \n",
      "o o o o o o o \n"
     ]
    }
   ],
   "source": [
    "## write your answer here!\n",
    "import heapq\n",
    "\n",
    "\n",
    "class Cell(object):\n",
    "    def __init__(self, x, y, reachable):\n",
    "        self.reachable = reachable\n",
    "        self.x = x\n",
    "        self.y = y\n",
    "        self.parent = None\n",
    "        self.g = 0\n",
    "        self.h = 0\n",
    "        self.f = 0\n",
    "    \n",
    "    def __lt__(self, other):\n",
    "        self.g < other.g\n",
    "\n",
    "class AStar(object):\n",
    "    def __init__(self):\n",
    "        self.opened = []\n",
    "        heapq.heapify(self.opened)\n",
    "        self.closed = set()\n",
    "        self.cells = []\n",
    "        self.grid_height = None\n",
    "        self.grid_width = None\n",
    "\n",
    "    def init_grid(self, width, height, walls, start, end):\n",
    "        self.grid_height = height\n",
    "        self.grid_width = width\n",
    "        for y in range(self.grid_height):\n",
    "            for x in range(self.grid_width):\n",
    "                if (x, y) in walls:\n",
    "                    reachable = False\n",
    "                else:\n",
    "                    reachable = True\n",
    "                self.cells.append(Cell(x, y, reachable))\n",
    "        self.start = self.get_cell(*start)\n",
    "        self.end = self.get_cell(*end)\n",
    "\n",
    "    def get_heuristic(self, cell):\n",
    "        return 10 * (abs(cell.x - self.end.x) + abs(cell.y - self.end.y))\n",
    "\n",
    "    def get_cell(self, x, y):\n",
    "        return self.cells[y * self.grid_width + x]\n",
    "\n",
    "    def get_adjacent_cells(self, cell):\n",
    "        cells = []\n",
    "        if cell.x < self.grid_width-1:\n",
    "            cells.append(self.get_cell(cell.x+1, cell.y))\n",
    "        if cell.y > 0:\n",
    "            cells.append(self.get_cell(cell.x, cell.y-1))\n",
    "        if cell.x > 0:\n",
    "            cells.append(self.get_cell(cell.x-1, cell.y))\n",
    "        if cell.y < self.grid_height-1:\n",
    "            cells.append(self.get_cell(cell.x, cell.y+1))\n",
    "        return cells\n",
    "\n",
    "    def get_path(self):\n",
    "        cell = self.end\n",
    "        path = [(cell.x, cell.y)]\n",
    "        while cell.parent is not self.start:\n",
    "            cell = cell.parent\n",
    "            path.append((cell.x, cell.y))\n",
    "\n",
    "        path.append((self.start.x, self.start.y))\n",
    "        path.reverse()\n",
    "        return path\n",
    "\n",
    "    def print_path(self, path=[]):\n",
    "        for y in range(self.grid_height):\n",
    "            line = \"\"\n",
    "            for x in range(self.grid_width):\n",
    "                if (x, y) in path:\n",
    "                    line += \"* \"\n",
    "                else:\n",
    "                    cell = self.get_cell(x, y)\n",
    "                    if cell.reachable:\n",
    "                        if cell == self.start:\n",
    "                            line += \"s \"\n",
    "                        elif cell == self.end:\n",
    "                            line += \"e \"\n",
    "                        else:\n",
    "                            line += \"o \"\n",
    "                    else:\n",
    "                        line += \"x \"\n",
    "            print(line)\n",
    "            \n",
    "    def update_cell(self, adj, cell):\n",
    "        adj.g = cell.g + 10\n",
    "        adj.h = self.get_heuristic(adj)\n",
    "        adj.parent = cell\n",
    "        adj.f = adj.h + adj.g\n",
    "\n",
    "    def solve(self):\n",
    "        heapq.heappush(self.opened, (self.start.f, self.start))\n",
    "        while len(self.opened):\n",
    "            f, cell = heapq.heappop(self.opened)\n",
    "            self.closed.add(cell)\n",
    "            if cell is self.end:\n",
    "                return self.get_path()\n",
    "            adj_cells = self.get_adjacent_cells(cell)\n",
    "            for adj_cell in adj_cells:\n",
    "                if adj_cell.reachable and adj_cell not in self.closed:\n",
    "                    if (adj_cell.f, adj_cell) in self.opened:\n",
    "                        if adj_cell.g > cell.g + 10:\n",
    "                            self.update_cell(adj_cell, cell)\n",
    "                    else:\n",
    "                        self.update_cell(adj_cell, cell)\n",
    "                        heapq.heappush(self.opened, (adj_cell.f, adj_cell))\n",
    "\n",
    "                        \n",
    "walls = [(3, 1), (3, 2), (3, 3)]\n",
    "start = (1, 2)\n",
    "end = (5, 2)\n",
    "height = 5\n",
    "width = 7\n",
    "star = AStar()\n",
    "star.init_grid(width, height, walls, start, end)\n",
    "star.solve()\n",
    "path = star.get_path()\n",
    "print(\"Original:\")\n",
    "star.print_path()\n",
    "print(\"Find Path:\")\n",
    "star.print_path(path)"
   ]
  }
 ],
 "metadata": {
  "kernelspec": {
   "display_name": "Python 3",
   "language": "python",
   "name": "python3"
  },
  "language_info": {
   "codemirror_mode": {
    "name": "ipython",
    "version": 3
   },
   "file_extension": ".py",
   "mimetype": "text/x-python",
   "name": "python",
   "nbconvert_exporter": "python",
   "pygments_lexer": "ipython3",
   "version": "3.6.4"
  }
 },
 "nbformat": 4,
 "nbformat_minor": 2
}
